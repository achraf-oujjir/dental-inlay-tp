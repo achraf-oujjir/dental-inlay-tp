{
  "cells": [
    {
      "cell_type": "code",
      "source": [
        "!pwd"
      ],
      "metadata": {
        "colab": {
          "base_uri": "https://localhost:8080/"
        },
        "id": "8tm0bA0IKRZ-",
        "outputId": "9ebb8f12-6f54-489c-d319-49ed6f4084d4"
      },
      "id": "8tm0bA0IKRZ-",
      "execution_count": null,
      "outputs": [
        {
          "output_type": "stream",
          "name": "stdout",
          "text": [
            "/content/est\n"
          ]
        }
      ]
    },
    {
      "cell_type": "markdown",
      "source": [
        "#**Prétraitement de la Data**"
      ],
      "metadata": {
        "id": "MzVD8Sjwd57S"
      },
      "id": "MzVD8Sjwd57S"
    },
    {
      "cell_type": "code",
      "execution_count": null,
      "id": "a6462e16",
      "metadata": {
        "colab": {
          "base_uri": "https://localhost:8080/"
        },
        "id": "a6462e16",
        "outputId": "4223c91a-c695-42e7-ca6f-5ce8a4662472"
      },
      "outputs": [
        {
          "output_type": "stream",
          "name": "stdout",
          "text": [
            "40.xml\n",
            "0.xml\n",
            "10.xml\n",
            "5.xml\n",
            "26.xml\n",
            "16.xml\n",
            "44.xml\n",
            "13.xml\n",
            "35.xml\n",
            "25.xml\n",
            "43.xml\n",
            "15.xml\n",
            "27.xml\n",
            "41.xml\n",
            "4.xml\n",
            "1.xml\n",
            "20.xml\n",
            "31.xml\n",
            "24.xml\n",
            "19.xml\n",
            "47.xml\n",
            "3.xml\n",
            "42.xml\n",
            "38.xml\n",
            "45.xml\n",
            "22.xml\n",
            "17.xml\n",
            "36.xml\n",
            "9.xml\n",
            "21.xml\n",
            "12.xml\n",
            "34.xml\n",
            "6.xml\n",
            "18.xml\n",
            "11.xml\n",
            "33.xml\n",
            "14.xml\n",
            "46.xml\n",
            "32.xml\n",
            "2.xml\n",
            "23.xml\n",
            "29.xml\n",
            "30.xml\n",
            "39.xml\n",
            "7.xml\n",
            "28.xml\n",
            "37.xml\n",
            "8.xml\n",
            "<bound method NDFrame.describe of      Image height width depth                coin_1                coin_2  \\\n",
            "0   40.jpg    448   448     3    (59, 59, 259, 259)    (82, 82, 397, 397)   \n",
            "1    0.jpg    448   448     3      (77, 77, 73, 73)    (17, 17, 245, 245)   \n",
            "2   10.jpg    448   448     3    (78, 78, 341, 341)    (20, 20, 186, 186)   \n",
            "3    5.jpg    448   448     3  (149, 149, 299, 299)  (112, 112, 230, 230)   \n",
            "4   26.jpg    448   448     3    (84, 84, 290, 290)    (23, 23, 166, 166)   \n",
            "5   16.jpg    448   448     3  (101, 101, 249, 249)    (39, 39, 147, 147)   \n",
            "6   44.jpg    448   448     3    (49, 49, 141, 141)      (75, 75, 80, 80)   \n",
            "7   13.jpg    448   448     3    (74, 74, 277, 277)    (26, 26, 163, 163)   \n",
            "8   35.jpg    448   448     3  (100, 100, 292, 292)    (59, 59, 231, 231)   \n",
            "9   25.jpg    448   448     3    (92, 92, 128, 128)    (64, 64, 296, 296)   \n",
            "10  43.jpg    448   448     3    (40, 40, 133, 133)      (47, 47, 60, 60)   \n",
            "11  15.jpg    448   448     3    (87, 87, 256, 256)    (35, 35, 158, 158)   \n",
            "12  27.jpg    448   448     3    (72, 72, 330, 330)    (15, 15, 181, 181)   \n",
            "13  41.jpg    448   448     3    (61, 61, 261, 261)    (82, 82, 397, 397)   \n",
            "14   4.jpg    448   448     3      (74, 74, 62, 62)    (13, 13, 264, 264)   \n",
            "15   1.jpg    448   448     3    (89, 89, 167, 167)      (93, 93, 93, 93)   \n",
            "16  20.jpg    448   448     3    (72, 72, 243, 243)    (23, 23, 149, 149)   \n",
            "17  31.jpg    448   448     3    (67, 67, 306, 306)    (35, 35, 226, 226)   \n",
            "18  24.jpg    448   448     3    (97, 97, 355, 355)    (19, 19, 207, 207)   \n",
            "19  19.jpg    448   448     3    (72, 72, 314, 314)    (17, 17, 233, 233)   \n",
            "20  47.jpg    448   448     3    (41, 41, 131, 131)      (51, 51, 62, 62)   \n",
            "21   3.jpg    448   448     3    (39, 39, 138, 138)      (40, 40, 70, 70)   \n",
            "22  42.jpg    448   448     3    (33, 33, 266, 266)    (82, 82, 415, 415)   \n",
            "23  38.jpg    448   448     3  (121, 121, 178, 178)    (97, 97, 131, 131)   \n",
            "24  45.jpg    448   448     3    (15, 15, 190, 190)    (30, 30, 106, 106)   \n",
            "25  22.jpg    448   448     3  (113, 113, 265, 265)    (61, 61, 138, 138)   \n",
            "26  17.jpg    448   448     3    (66, 66, 262, 262)    (19, 19, 171, 171)   \n",
            "27  36.jpg    448   448     3  (101, 101, 293, 293)    (54, 54, 231, 231)   \n",
            "28   9.jpg    448   448     3    (75, 75, 319, 319)    (39, 39, 216, 216)   \n",
            "29  21.jpg    448   448     3    (92, 92, 311, 311)    (44, 44, 247, 247)   \n",
            "30  12.jpg    448   448     3    (72, 72, 338, 338)    (32, 32, 209, 209)   \n",
            "31  34.jpg    448   448     3    (71, 71, 325, 325)    (47, 47, 264, 264)   \n",
            "32   6.jpg    448   448     3  (115, 115, 111, 111)    (122, 122, 53, 53)   \n",
            "33  18.jpg    448   448     3    (81, 81, 287, 287)    (28, 28, 196, 196)   \n",
            "34  11.jpg    448   448     3    (69, 69, 340, 340)    (31, 31, 213, 213)   \n",
            "35  33.jpg    448   448     3    (23, 23, 297, 297)    (14, 14, 253, 253)   \n",
            "36  14.jpg    448   448     3  (100, 100, 284, 284)    (42, 42, 169, 169)   \n",
            "37  46.jpg    448   448     3  (427, 427, 137, 137)    (435, 435, 65, 65)   \n",
            "38  32.jpg    448   448     3    (68, 68, 309, 309)    (27, 27, 220, 220)   \n",
            "39   2.jpg    448   448     3    (56, 56, 131, 131)      (61, 61, 41, 41)   \n",
            "40  23.jpg    448   448     3    (22, 22, 325, 325)    (44, 44, 182, 182)   \n",
            "41  29.jpg    448   448     3    (68, 68, 291, 291)    (29, 29, 195, 195)   \n",
            "42  30.jpg    448   448     3    (79, 79, 364, 364)    (29, 29, 247, 247)   \n",
            "43  39.jpg    448   448     3    (61, 61, 260, 260)    (79, 79, 396, 396)   \n",
            "44   7.jpg    448   448     3  (175, 175, 271, 271)  (156, 156, 160, 160)   \n",
            "45  28.jpg    448   448     3    (77, 77, 264, 264)    (22, 22, 151, 151)   \n",
            "46  37.jpg    448   448     3  (145, 145, 130, 130)    (160, 160, 77, 77)   \n",
            "47   8.jpg    448   448     3    (69, 69, 323, 323)    (26, 26, 203, 203)   \n",
            "\n",
            "                  coin_3                coin_4  \n",
            "0   (374, 374, 243, 243)  (329, 329, 402, 402)  \n",
            "1   (373, 373, 112, 112)  (428, 428, 236, 236)  \n",
            "2   (392, 392, 286, 286)  (440, 440, 170, 170)  \n",
            "3   (404, 404, 263, 263)  (428, 428, 162, 162)  \n",
            "4   (404, 404, 311, 311)  (427, 427, 269, 269)  \n",
            "5   (392, 392, 221, 221)  (441, 441, 109, 109)  \n",
            "6   (427, 427, 143, 143)    (389, 389, 82, 82)  \n",
            "7   (390, 390, 241, 241)  (445, 445, 131, 131)  \n",
            "8   (405, 405, 291, 291)  (435, 435, 214, 214)  \n",
            "9   (336, 336, 120, 120)  (357, 357, 253, 253)  \n",
            "10  (409, 409, 122, 122)    (375, 375, 53, 53)  \n",
            "11  (372, 372, 251, 251)  (420, 420, 144, 144)  \n",
            "12  (395, 395, 349, 349)  (415, 415, 303, 303)  \n",
            "13  (372, 372, 246, 246)  (331, 331, 388, 388)  \n",
            "14    (382, 382, 92, 92)  (438, 438, 239, 239)  \n",
            "15  (346, 346, 171, 171)    (336, 336, 89, 89)  \n",
            "16  (368, 368, 238, 238)  (429, 429, 126, 126)  \n",
            "17  (398, 398, 301, 301)  (439, 439, 180, 180)  \n",
            "18  (392, 392, 380, 380)  (434, 434, 252, 252)  \n",
            "19  (349, 349, 316, 316)  (418, 418, 227, 227)  \n",
            "20  (406, 406, 121, 121)    (378, 378, 58, 58)  \n",
            "21  (411, 411, 154, 154)    (408, 408, 82, 82)  \n",
            "22  (378, 378, 243, 243)  (338, 338, 395, 395)  \n",
            "23  (285, 285, 182, 182)  (305, 305, 141, 141)  \n",
            "24  (417, 417, 161, 161)    (396, 396, 99, 99)  \n",
            "25  (338, 338, 258, 258)  (386, 386, 139, 139)  \n",
            "26  (354, 354, 253, 253)  (399, 399, 191, 191)  \n",
            "27  (414, 414, 277, 277)  (441, 441, 207, 207)  \n",
            "28  (392, 392, 265, 265)  (434, 434, 161, 161)  \n",
            "29  (379, 379, 302, 302)  (430, 430, 225, 225)  \n",
            "30  (393, 393, 267, 267)  (441, 441, 153, 153)  \n",
            "31  (392, 392, 332, 332)  (409, 409, 290, 290)  \n",
            "32  (351, 351, 108, 108)    (340, 340, 69, 69)  \n",
            "33  (367, 367, 279, 279)  (423, 423, 194, 194)  \n",
            "34  (390, 390, 270, 270)  (434, 434, 162, 162)  \n",
            "35  (349, 349, 375, 375)  (399, 399, 333, 333)  \n",
            "36  (401, 401, 250, 250)  (440, 440, 143, 143)  \n",
            "37    (16, 16, 163, 163)      (6, 6, 141, 141)  \n",
            "38  (410, 410, 293, 293)  (439, 439, 193, 193)  \n",
            "39  (402, 402, 123, 123)    (406, 406, 78, 78)  \n",
            "40  (242, 242, 409, 409)  (361, 361, 309, 309)  \n",
            "41  (397, 397, 305, 305)  (417, 417, 266, 266)  \n",
            "42  (395, 395, 352, 352)  (425, 425, 283, 283)  \n",
            "43  (381, 381, 245, 245)  (330, 330, 404, 404)  \n",
            "44  (274, 274, 233, 233)  (289, 289, 158, 158)  \n",
            "45  (393, 393, 263, 263)  (423, 423, 200, 200)  \n",
            "46  (340, 340, 149, 149)    (342, 342, 78, 78)  \n",
            "47  (396, 396, 259, 259)  (431, 431, 153, 153)  >\n"
          ]
        }
      ],
      "source": [
        "import pandas as pd\n",
        "import xml.etree.ElementTree as ET\n",
        "import glob\n",
        "import os\n",
        "\n",
        "\n",
        "_dir='est'\n",
        "\n",
        "\n",
        "elements = ['Image','height','width','depth','coin_1','coin_2','coin_3','coin_4']\n",
        "\n",
        "df=pd.DataFrame(columns=elements)\n",
        "\n",
        "coin_names = []\n",
        "coin_values = {}\n",
        "\n",
        "\n",
        "# Iterate over XML files in the directory\n",
        "for xml_file in glob.glob('*.xml'):\n",
        "    if xml_file.endswith('.xml'):\n",
        "        # Parse the XML file\n",
        "        print(xml_file)\n",
        "        tree = ET.parse(xml_file)\n",
        "        root = tree.getroot()\n",
        "\n",
        "        # Extract the annotation file name\n",
        "        file_name = root.find('filename').text\n",
        "\n",
        "        # Extract size information\n",
        "        width = int(root.find('size/width').text)\n",
        "        height = int(root.find('size/height').text)\n",
        "        depth = int(root.find('size/depth').text)\n",
        "\n",
        "\n",
        "        # Iterate over the 'object' elements\n",
        "        for obj in root.iter('object'):\n",
        "            # Extract the coin name\n",
        "            coin_name = obj.find('name').text\n",
        "\n",
        "            # Extract the coin value (xmin, ymin, xmax, ymax)\n",
        "            bbox = obj.find('bndbox')\n",
        "            xmin = int(bbox.find('xmin').text)\n",
        "            ymin = int(bbox.find('ymin').text)\n",
        "            xmax = int(bbox.find('xmax').text)\n",
        "            ymax = int(bbox.find('ymax').text)\n",
        "\n",
        "            # Store the coin value in the dictionary\n",
        "            coin_values[coin_name] = (xmin, xmax, ymin, ymax)\n",
        "\n",
        "        tmp_df=pd.DataFrame([coin_values], columns=['Image','height','width','depth'] + list(coin_values.keys()))\n",
        "        # Set the 'filename' column value\n",
        "        tmp_df['Image'] = file_name\n",
        "        tmp_df['height']=height\n",
        "        tmp_df['width']=width\n",
        "        tmp_df['depth']=depth\n",
        "        # Append the data to the DataFrame\n",
        "        df = pd.concat([df,tmp_df], ignore_index=True)\n",
        "\n",
        "\n",
        "\n",
        "# Print the DataFrame\n",
        "print(df.describe)"
      ]
    },
    {
      "cell_type": "code",
      "execution_count": null,
      "id": "8731fdd8",
      "metadata": {
        "scrolled": true,
        "colab": {
          "base_uri": "https://localhost:8080/"
        },
        "id": "8731fdd8",
        "outputId": "014afc5a-1f39-4ebf-e2fb-faf11e75d419"
      },
      "outputs": [
        {
          "output_type": "stream",
          "name": "stdout",
          "text": [
            "[Empty DataFrame\n",
            "Columns: [Image, height, width, depth, coin_1, coin_2, coin_3, coin_4]\n",
            "Index: [], Empty DataFrame\n",
            "Columns: [Image, height, width, depth, coin_1, coin_2, coin_3, coin_4]\n",
            "Index: [], Empty DataFrame\n",
            "Columns: [Image, height, width, depth, coin_1, coin_2, coin_3, coin_4]\n",
            "Index: [], Empty DataFrame\n",
            "Columns: [Image, height, width, depth, coin_1, coin_2, coin_3, coin_4]\n",
            "Index: []]\n",
            "Empty DataFrame\n",
            "Columns: [Image, height, width, depth, coin_1, coin_2, coin_3, coin_4]\n",
            "Index: []\n"
          ]
        }
      ],
      "source": [
        "print([df[df[f'coin_{i}'].apply(lambda x: x[2]) != df[f'coin_{i}'].apply(lambda x: x[3])] for i in range(1,5)])\n",
        "print(df[df.height<448])"
      ]
    },
    {
      "cell_type": "code",
      "execution_count": null,
      "id": "5e7d1886",
      "metadata": {
        "colab": {
          "base_uri": "https://localhost:8080/",
          "height": 1000
        },
        "id": "5e7d1886",
        "outputId": "4101cff7-b831-4ca9-e685-88ed7daadc15"
      },
      "outputs": [],
      "source": [
        "import matplotlib.pyplot as plt\n",
        "import cv2\n",
        "\n",
        "images=df.Image\n",
        "\n",
        "# Visualize images and their corresponding angle points\n",
        "for i in range(len(images)):\n",
        "    image = cv2.imread(images[i])\n",
        "    angle = [df.loc[i,f'coin_{x}'] for x in range(1,5)]\n",
        "\n",
        "    # Plot image with angle points\n",
        "    plt.figure()\n",
        "    plt.imshow(cv2.cvtColor(image, cv2.COLOR_BGR2RGB))\n",
        "    for p in angle:\n",
        "        plt.scatter([p[0],p[1]], [p[2],p[3]], color='red')  # Plot the x and y coordinates separately\n",
        "        # Draw a line between the two points\n",
        "        plt.plot()\n",
        "    # Draw lines between the angle points\n",
        "    for j in [0,2]:\n",
        "        x_coords = [angle[j][0], angle[j + 1][0]]  # x-coordinates\n",
        "        y_coords = [angle[j][2], angle[j + 1][2]]  # y-coordinates\n",
        "        x_c00rds = [angle[j][0],angle[j][0]]\n",
        "        y_c00rds = [448,0]\n",
        "        plt.plot(x_coords, y_coords, color='blue')\n",
        "        plt.plot(x_c00rds, y_c00rds, color='green')\n",
        "    plt.title('Teeth Image with Angle Points')\n",
        "    plt.show()"
      ]
    },
    {
      "cell_type": "code",
      "execution_count": null,
      "id": "31b41785",
      "metadata": {
        "id": "31b41785"
      },
      "outputs": [],
      "source": [
        "import cv2\n",
        "import numpy as np\n",
        "\n",
        "images = df.Image\n",
        "output_folder=_dir+'/masks'\n",
        "\n",
        "# Set the output folder to save the resulting images\n",
        "os.makedirs(output_folder, exist_ok=True)\n",
        "\n",
        "# Visualize images and their corresponding angle points\n",
        "for i in range(len(images)):\n",
        "    image = cv2.imread(images[i])\n",
        "    mask = np.zeros_like(image)\n",
        "    angle = [df.loc[i, f'coin_{x}'] for x in range(1, 5)]\n",
        "\n",
        "    # Plot image with angle points and lines\n",
        "    #for p in angle:\n",
        "        #cv2.circle(mask, (p[0], p[2]), 3, (0, 0, 255), -1)  # Draw red circles at angle points\n",
        "\n",
        "    # Draw lines between the angle points\n",
        "    for j in [0, 2]:\n",
        "        x_coords = [angle[j][0], angle[j + 1][0]]  # x-coordinates\n",
        "        y_coords = [angle[j][2], angle[j + 1][2]]  # y-coordinates\n",
        "        cv2.line(mask, (x_coords[0], y_coords[0]), (x_coords[1], y_coords[1]), (255, 255, 255), 2)  # Draw blue lines\n",
        "\n",
        "    # Prepare mask for augmentation\n",
        "    mask = cv2.cvtColor(mask, cv2.COLOR_BGR2GRAY)  # Convert mask to grayscale\n",
        "    mask = np.expand_dims(mask, axis=-1)  # Add channel dimension\n",
        "\n",
        "    # Save the resulting image\n",
        "    output_path = os.path.join(output_folder, f'mask_{images[i][:-4]}.jpg')\n",
        "    cv2.imwrite(output_path, mask)\n"
      ]
    },
    {
      "cell_type": "code",
      "execution_count": null,
      "id": "e8efdaa2",
      "metadata": {
        "colab": {
          "base_uri": "https://localhost:8080/",
          "height": 1000
        },
        "id": "e8efdaa2",
        "outputId": "0842bd21-05e6-40aa-ff19-38d0eef9039a"
      },
      "outputs": [],
      "source": [
        "import matplotlib.pyplot as plt\n",
        "import cv2\n",
        "import numpy as np\n",
        "\n",
        "images = df.Image\n",
        "\n",
        "# Visualize images and their corresponding angle points\n",
        "for i in range(len(images)):\n",
        "    image = cv2.imread(images[i])\n",
        "    angle = [df.loc[i, f'coin_{x}'] for x in range(1, 5)]\n",
        "\n",
        "    # Plot image with angle points\n",
        "    plt.figure()\n",
        "    plt.imshow(cv2.cvtColor(image, cv2.COLOR_BGR2RGB))\n",
        "\n",
        "    # Plot scatter points\n",
        "    for p in angle:\n",
        "        plt.scatter([p[0], p[1]], [p[2], p[3]], color='red')\n",
        "\n",
        "    angs=[]\n",
        "\n",
        "    # Draw lines between the angle points\n",
        "    for j in [0,2]:\n",
        "        x_coords = [angle[j][0], angle[j + 1][0]]  # x-coordinates\n",
        "        y_coords = [angle[j][2], angle[j + 1][2]]  # y-coordinates\n",
        "        plt.plot(x_coords, y_coords, color='blue')\n",
        "\n",
        "        # Calculate angle between two lines\n",
        "        # Define the starting points of the two lines\n",
        "        line1_start = np.array([angle[j][0], angle[j][2]])\n",
        "        line2_start = np.array([angle[j+1][0], 448])\n",
        "\n",
        "        # Define the ending points of the two lines\n",
        "        line1_end = np.array([angle[j+1][0], angle[j+1][2]])\n",
        "        line2_end = np.array([angle[j+1][0], 0])\n",
        "\n",
        "        # Calculate the direction vectors of the two lines\n",
        "        line1_vector = line1_end - line1_start\n",
        "        line2_vector = line2_end - line2_start\n",
        "\n",
        "        dot_product = np.dot(line1_vector, line2_vector)\n",
        "        magnitude_product = np.linalg.norm(line1_vector) * np.linalg.norm(line2_vector)\n",
        "        angle_rad = np.arccos(dot_product / magnitude_product)\n",
        "        angle_deg = np.degrees(angle_rad)\n",
        "        angs.append(angle_deg)\n",
        "\n",
        "    plt.title(f'Teeth Image {images[i][:-4]} with Angle Points')\n",
        "    plt.text(10, 10, f'Angle 1: {angs[0]:.2f} degrees', color='red') if angs[0] < 180 else  plt.text(10, 10, f'Angle: {angs[0]-360:.2f} degrees', color='red')\n",
        "    plt.text(238, 10, f'Angle 2: {angs[1]:.2f} degrees', color='red') if angs[1] < 180 else  plt.text(10, 10, f'Angle: {angs[1]-360:.2f} degrees', color='red')\n",
        "    #df.loc[i, 'Angle 1'] = angs[0] if angs[0] < 180 else angs[0]-180\n",
        "    #df.loc[i, 'Angle 2'] = angs[1] if angs[1] < 180 else angs[1]-180\n",
        "    plt.show()"
      ]
    },
    {
      "cell_type": "code",
      "source": [
        "!pwd"
      ],
      "metadata": {
        "colab": {
          "base_uri": "https://localhost:8080/"
        },
        "id": "_3LJYkoQaTxK",
        "outputId": "959fc7e3-aa56-44c9-a23f-8953ce3c67d3"
      },
      "id": "_3LJYkoQaTxK",
      "execution_count": null,
      "outputs": [
        {
          "output_type": "stream",
          "name": "stdout",
          "text": [
            "/content/est\n"
          ]
        }
      ]
    },
    {
      "cell_type": "code",
      "execution_count": null,
      "id": "1745663f",
      "metadata": {
        "id": "1745663f"
      },
      "outputs": [],
      "source": [
        "import cv2\n",
        "import matplotlib.pyplot as plt\n",
        "\n",
        "# Load images and masks\n",
        "images = []\n",
        "masks = []\n",
        "\n",
        "\n",
        "for im in df.Image:\n",
        "    mask_path = f'./est/masks/mask_{im[:-4]}.jpg'\n",
        "\n",
        "    image = cv2.imread(im)\n",
        "    mask = cv2.imread(mask_path)\n",
        "\n",
        "    images.append(image)\n",
        "    masks.append(mask)"
      ]
    },
    {
      "cell_type": "code",
      "source": [
        "type(mask)"
      ],
      "metadata": {
        "colab": {
          "base_uri": "https://localhost:8080/"
        },
        "id": "-IQHhhcuaKg5",
        "outputId": "80e59f4c-c00f-47d1-e271-20658dd1ed78"
      },
      "id": "-IQHhhcuaKg5",
      "execution_count": null,
      "outputs": [
        {
          "output_type": "execute_result",
          "data": {
            "text/plain": [
              "numpy.ndarray"
            ]
          },
          "metadata": {},
          "execution_count": 54
        }
      ]
    },
    {
      "cell_type": "code",
      "execution_count": null,
      "id": "9ce9a5d8",
      "metadata": {
        "scrolled": true,
        "colab": {
          "base_uri": "https://localhost:8080/",
          "height": 1000
        },
        "id": "9ce9a5d8",
        "outputId": "e65824b5-90fc-4c82-e74a-8d41c7ee769f"
      },
      "outputs": [],
      "source": [
        "# Display images and masks side by side\n",
        "for image, mask in zip(images, masks):\n",
        "    fig, axes = plt.subplots(1, 2, figsize=(10, 5))\n",
        "\n",
        "    # Display the original image\n",
        "    axes[0].imshow(cv2.cvtColor(image, cv2.COLOR_BGR2RGB))\n",
        "    axes[0].set_title('Original Image')\n",
        "\n",
        "    # Display the mask\n",
        "    axes[1].imshow(mask, cmap='gray')\n",
        "    axes[1].set_title('Mask')\n",
        "\n",
        "    plt.show()"
      ]
    },
    {
      "cell_type": "code",
      "execution_count": null,
      "id": "e76f6cfe",
      "metadata": {
        "colab": {
          "base_uri": "https://localhost:8080/"
        },
        "id": "e76f6cfe",
        "outputId": "08e40f0a-f9ad-460a-8a61-d26b73fb7230"
      },
      "outputs": [
        {
          "output_type": "stream",
          "name": "stdout",
          "text": [
            "Augmented Images Size : 28901376, Shape : (48, 448, 448, 3)\n",
            "Augmented Masks Size : 28901376, Shape : (48, 448, 448, 3)\n"
          ]
        }
      ],
      "source": [
        "from tensorflow.keras.preprocessing.image import ImageDataGenerator\n",
        "\n",
        "# Create an image data generator with desired augmentations\n",
        "data_generator = ImageDataGenerator(\n",
        "    rotation_range=20,\n",
        "    width_shift_range=0.1,\n",
        "    height_shift_range=0.1,\n",
        "    horizontal_flip=True,\n",
        "    vertical_flip=True,\n",
        "    fill_mode='constant',\n",
        "    cval=0\n",
        ")\n",
        "\n",
        "# Generate augmented images and masks\n",
        "augmented_images = []\n",
        "augmented_masks = []\n",
        "\n",
        "for image, mask in zip(images, masks):\n",
        "    image_batch = np.expand_dims(image, axis=0)\n",
        "    mask_batch = np.expand_dims(mask, axis=0)\n",
        "\n",
        "    # Apply data augmentation to images\n",
        "    augmented_image_batch = data_generator.flow(image_batch, batch_size=1, shuffle=False)\n",
        "\n",
        "    # Apply data augmentation to masks (use the same seed for consistency)\n",
        "    augmented_mask_batch = data_generator.flow(mask_batch, batch_size=1, shuffle=False)\n",
        "\n",
        "    augmented_image = next(augmented_image_batch)[0]\n",
        "    augmented_mask = next(augmented_mask_batch)[0]\n",
        "\n",
        "    augmented_images.append(augmented_image)\n",
        "    augmented_masks.append(augmented_mask)\n",
        "\n",
        "augmented_images = np.array(augmented_images)\n",
        "augmented_masks = np.array(augmented_masks)\n",
        "\n",
        "# Check the shapes of augmented images and masks\n",
        "print(f'Augmented Images Size : {augmented_images.size}, Shape : {augmented_images.shape}')\n",
        "print(f'Augmented Masks Size : {augmented_masks.size}, Shape : {augmented_masks.shape}')"
      ]
    },
    {
      "cell_type": "code",
      "execution_count": null,
      "id": "bf725259",
      "metadata": {
        "id": "bf725259"
      },
      "outputs": [],
      "source": [
        "from sklearn.model_selection import train_test_split\n",
        "\n",
        "\n",
        "# Modify the masks to have a single channel\n",
        "augmented_masks_single_channel = augmented_masks[..., 0:1]\n",
        "# Split the augmented data into training and validation sets\n",
        "train_images, val_images, train_masks, val_masks = train_test_split(augmented_images, augmented_masks_single_channel, test_size=0.2, random_state=42)"
      ]
    },
    {
      "cell_type": "code",
      "execution_count": null,
      "id": "8fe2e3f3",
      "metadata": {
        "colab": {
          "base_uri": "https://localhost:8080/",
          "height": 754
        },
        "id": "8fe2e3f3",
        "outputId": "323d8250-00df-439e-81f7-cd83fda00ccc"
      },
      "outputs": [
        {
          "output_type": "execute_result",
          "data": {
            "image/png": "[encoded data removed]",
            "text/plain": [
              "<IPython.core.display.Image object>"
            ]
          },
          "metadata": {},
          "execution_count": 65
        }
      ],
      "source": [
        "from tensorflow.keras.models import Model\n",
        "from tensorflow.keras.layers import Input, Conv2D, MaxPooling2D, UpSampling2D, Concatenate\n",
        "from tensorflow.keras.utils import plot_model\n",
        "\n",
        "\n",
        "def unet_model(input_shape):\n",
        "    inputs = Input(input_shape)\n",
        "\n",
        "    # Encoding path\n",
        "    conv1 = Conv2D(64, 3, activation='relu', padding='same')(inputs)\n",
        "    pool1 = MaxPooling2D(pool_size=(2, 2))(conv1)\n",
        "    # Add more convolutional and pooling layers as needed\n",
        "\n",
        "    # Decoding path\n",
        "    up6 = UpSampling2D(size=(2, 2))(pool1)\n",
        "    merge6 = Concatenate(axis=3)([conv1, up6])\n",
        "    conv6 = Conv2D(2, 3, activation='relu', padding='same')(merge6)\n",
        "    # Add more upsampling and concatenation layers as needed\n",
        "\n",
        "    # Output\n",
        "    outputs = Conv2D(1, 1, activation='sigmoid')(conv6)\n",
        "\n",
        "    model = Model(inputs=inputs, outputs=outputs)\n",
        "    return model\n",
        "\n",
        "\n",
        "# Build the U-Net model\n",
        "input_shape = images[0].shape\n",
        "model = unet_model(input_shape)\n",
        "\n",
        "\n",
        "plot_model(model, to_file=\"cnn.png\", show_shapes=True)"
      ]
    },
    {
      "cell_type": "code",
      "execution_count": null,
      "id": "573332ba",
      "metadata": {
        "id": "573332ba"
      },
      "outputs": [],
      "source": [
        "# Build the U-Net model\n",
        "input_shape = images[0].shape\n",
        "model = unet_model(input_shape)"
      ]
    },
    {
      "cell_type": "markdown",
      "source": [
        "# Entraînement du modèle"
      ],
      "metadata": {
        "id": "jAC_s_W6hQiL"
      },
      "id": "jAC_s_W6hQiL"
    },
    {
      "cell_type": "code",
      "execution_count": null,
      "id": "ef869ef0",
      "metadata": {
        "id": "ef869ef0"
      },
      "outputs": [],
      "source": [
        "# Compile the model\n",
        "model.compile(optimizer='adam', loss='binary_crossentropy')\n",
        "# Train the model\n",
        "model.fit(train_images, train_masks, batch_size=8, epochs=10, validation_data=(val_images, val_masks))"
      ]
    },
    {
      "cell_type": "markdown",
      "source": [],
      "metadata": {
        "id": "B0PT6nIWhlr7"
      },
      "id": "B0PT6nIWhlr7"
    },
    {
      "cell_type": "code",
      "execution_count": null,
      "id": "026585d8",
      "metadata": {
        "colab": {
          "base_uri": "https://localhost:8080/"
        },
        "id": "026585d8",
        "outputId": "0ee95469-895d-4d17-9650-4542b291c021"
      },
      "outputs": [
        {
          "output_type": "stream",
          "name": "stdout",
          "text": [
            "1/1 [==============================] - 6s 6s/step - loss: 0.6797\n",
            "Evaluation Loss: 0.6797093749046326\n"
          ]
        }
      ],
      "source": [
        "# Evaluate the model\n",
        "eval_loss = model.evaluate(val_images, val_masks)\n",
        "print(\"Evaluation Loss:\", eval_loss)"
      ]
    },
    {
      "cell_type": "code",
      "source": [
        "# Perform inference on new images\n",
        "new_image_path = '10.jpg'\n",
        "new_image = cv2.imread(new_image_path)\n",
        "\n",
        "# Preprocess the new image\n",
        "new_image = np.expand_dims(new_image, axis=0)\n",
        "\n",
        "# Predict line mask\n",
        "line_mask = model.predict(new_image)\n",
        "\n",
        "# Threshold the line mask\n",
        "threshold = 0.5\n",
        "thresholded_mask = (line_mask > threshold).astype(np.uint8)\n",
        "\n",
        "# Perform post-processing if needed (e.g., morphological operations or line fitting)\n",
        "\n",
        "# Visualize the line mask\n",
        "\n",
        "\n",
        "from google.colab.patches import cv2_imshow\n",
        "cv2_imshow(thresholded_mask[0] * 255)"
      ],
      "metadata": {
        "id": "RXx9OozrjlL7"
      },
      "id": "RXx9OozrjlL7",
      "execution_count": null,
      "outputs": []
    }
  ],
  "metadata": {
    "kernelspec": {
      "display_name": "Python 3 (ipykernel)",
      "language": "python",
      "name": "python3"
    },
    "language_info": {
      "codemirror_mode": {
        "name": "ipython",
        "version": 3
      },
      "file_extension": ".py",
      "mimetype": "text/x-python",
      "name": "python",
      "nbconvert_exporter": "python",
      "pygments_lexer": "ipython3",
      "version": "3.9.13"
    },
    "colab": {
      "provenance": []
    }
  },
  "nbformat": 4,
  "nbformat_minor": 5
}